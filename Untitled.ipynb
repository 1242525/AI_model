{
 "cells": [
  {
   "cell_type": "code",
   "execution_count": 2,
   "id": "5a4785ad-fb58-462c-a65a-25451f3ef263",
   "metadata": {},
   "outputs": [],
   "source": [
    "import os\n",
    "\n",
    "# 루트 디렉터리 설정\n",
    "base_dir = 'insider-threat-detector'\n",
    "\n",
    "# 만들 폴더 리스트\n",
    "folders = [\n",
    "    '',  # root 폴더\n",
    "    'dataset',\n",
    "    'model',\n",
    "    'preprocess'\n",
    "]\n",
    "\n",
    "# 각 폴더 생성\n",
    "for folder in folders:\n",
    "    path = os.path.join(base_dir, folder)\n",
    "    os.makedirs(path, exist_ok=True)\n",
    "\n",
    "# 필요한 파일들 생성 (비어 있는 py 파일)\n",
    "files = [\n",
    "    'main.py',\n",
    "    'train.py',\n",
    "    'requirements.txt',\n",
    "    'your_notebook.ipynb',\n",
    "    'dataset/keystroke_loader.py',\n",
    "    'dataset/mouse_loader.py',\n",
    "    'model/siamese.py',\n",
    "    'model/utils.py',\n",
    "    'preprocess/preprocess_keystroke.py',\n",
    "    'preprocess/preprocess_mouse.py',\n",
    "]\n",
    "\n",
    "for file in files:\n",
    "    open(os.path.join(base_dir, file), 'a').close()  # 파일이 없으면 생성\n"
   ]
  },
  {
   "cell_type": "code",
   "execution_count": null,
   "id": "11ba2b56-79f4-4b88-b036-f3dca6a296c4",
   "metadata": {},
   "outputs": [],
   "source": []
  }
 ],
 "metadata": {
  "kernelspec": {
   "display_name": "Python 3 (ipykernel)",
   "language": "python",
   "name": "python3"
  },
  "language_info": {
   "codemirror_mode": {
    "name": "ipython",
    "version": 3
   },
   "file_extension": ".py",
   "mimetype": "text/x-python",
   "name": "python",
   "nbconvert_exporter": "python",
   "pygments_lexer": "ipython3",
   "version": "3.13.3"
  }
 },
 "nbformat": 4,
 "nbformat_minor": 5
}
